{
 "cells": [
  {
   "cell_type": "code",
   "execution_count": null,
   "id": "d7341fc3-80d4-4a1b-8508-253e76a3f070",
   "metadata": {},
   "outputs": [],
   "source": [
    "import librosa #librosa is a Python package for music and \n",
    "audio processing\n",
    "import librosa.display #\n",
    "import IPython.display as ipd #to play the audio signal \n",
    "import matplotlib.pyplot as plt #plot the audio signal in \n",
    "time domain\n",
    "ipd.Audio('/content/drive/MyDrive/ColabNotebooks/trainingdatasets/cars001.wav')\n",
    "audio_path=('/content/drive/MyDrive/ColabNotebooks/trainingdatasets/cars001.wav')\n",
    "x , sr = librosa.load(audio_path) "
   ]
  },
  {
   "cell_type": "code",
   "execution_count": null,
   "id": "b527b0e5-b4c5-49fb-be25-5eae4ea6be59",
   "metadata": {},
   "outputs": [],
   "source": [
    "ipd.Audio('/content/drive/MyDrive/ColabNotebooks/trainingdatasets/cars001.wav')\n",
    " #Duration of audio file\n",
    "y=len(x) #number of samples x\n",
    "print(y)\n",
    " #print(len(x))\n",
    "y1=sr #sampling frequency sr\n",
    "print(y1)\n",
    "duration_of_sound=y/y1 #number of samples/sampling frequency\n",
    " print(duration_of_sound,\"second\")"
   ]
  },
  {
   "cell_type": "code",
   "execution_count": null,
   "id": "17354a81-0c80-448d-b5f3-fd22fdb94f2c",
   "metadata": {},
   "outputs": [],
   "source": [
    "plt.figure(figsize=(14, 5)) \n",
    "#variable to change the x and y axix range\n",
    " plt.grid(True ) \n",
    " #plotting the sampled signal\n",
    " librosa.display.waveshow(x)\n",
    " plt.xlabel(\"Time\")\n",
    " plt.ylabel(\"Amplitude\")\n",
    " plt.title(\"Time Domain Anlysis of Audio file\")"
   ]
  },
  {
   "cell_type": "code",
   "execution_count": null,
   "id": "47ea2f48-afbf-469c-827f-6e0e7afd00bc",
   "metadata": {},
   "outputs": [],
   "source": [
    "#spectrogram\n",
    "X = librosa.stft(x)\n",
    " #converting into energy levels(dB) \n",
    " Xdb = librosa.amplitude_to_db(abs(X))\n",
    " plt.figure(figsize=(20, 5))\n",
    " librosa.display.specshow(Xdb, sr=sr, \n",
    " x_axis='time', y_axis='hz')\n",
    " plt.colorbar()\n"
   ]
  },
  {
   "cell_type": "code",
   "execution_count": null,
   "id": "6df9c8c7-f968-4c62-a979-34eba48ad672",
   "metadata": {},
   "outputs": [],
   "source": [
    "y,sr=librosa.load('/content/drive/MyDrive/ColabNotebooks/training datasets/cars001.wav')\n",
    "mfccs = librosa.feature.mfcc(y=y, sr=sr, n_mfcc=40) \n",
    "#varable should be y not x\n",
    "plt.figure(figsize=(10,4))\n",
    "librosa.display.specshow(mfccs, x_axis=\"time\")\n",
    "plt.colorbar()"
   ]
  },
  {
   "cell_type": "code",
   "execution_count": null,
   "id": "03fa4a29-eee4-4aa3-91d7-f7ac55e11b9a",
   "metadata": {},
   "outputs": [],
   "source": [
    "plt.title('MFCC')\n",
    "plt.tight_layout()\n",
    "plt.show()"
   ]
  },
  {
   "cell_type": "code",
   "execution_count": null,
   "id": "227d2345-0f32-4fd3-bcb3-616d07392bd3",
   "metadata": {},
   "outputs": [],
   "source": [
    "x, sr = librosa.load('/content/drive/MyDrive/Colab Notebooks/training datasets/cars014.wav')\n",
    "hop_length = 512\n",
    "S = np.abs(librosa.stft(y))\n",
    "chroma = librosa.feature.chroma_stft(S=S, sr=sr)\n",
    "plt.figure(figsize=(15, 5))\n",
    "librosa.display.specshow(chroma, \n",
    "x_axis='time', y_axis='chroma', hop_length=hop_length, cmap='coolwarm')"
   ]
  }
 ],
 "metadata": {
  "kernelspec": {
   "display_name": "Python 3 (ipykernel)",
   "language": "python",
   "name": "python3"
  },
  "language_info": {
   "codemirror_mode": {
    "name": "ipython",
    "version": 3
   },
   "file_extension": ".py",
   "mimetype": "text/x-python",
   "name": "python",
   "nbconvert_exporter": "python",
   "pygments_lexer": "ipython3",
   "version": "3.12.5"
  }
 },
 "nbformat": 4,
 "nbformat_minor": 5
}
