{
 "cells": [
  {
   "cell_type": "code",
   "execution_count": null,
   "id": "397a51bd-c694-4433-b28b-6d73229febb8",
   "metadata": {},
   "outputs": [],
   "source": [
    "#Linear_convo"
   ]
  },
  {
   "cell_type": "code",
   "execution_count": null,
   "id": "75d3b20f-dbc1-483c-bb5b-fb1cf1d016a4",
   "metadata": {},
   "outputs": [],
   "source": [
    "import numpy as np\n",
    "#impulse response\n",
    "h = [1,2,3,3,2,1]\n",
    "#input response\n",
    "x = [1,2,3,4,5]\n",
    "y = np.convolve(x,h,mode='full') \n",
    "print('Linear convolution using NumPy built-in function output response y=\\n',y)"
   ]
  },
  {
   "cell_type": "code",
   "execution_count": null,
   "id": "2467aa15-6c03-40b1-8fe9-ae65096edce2",
   "metadata": {},
   "outputs": [],
   "source": [
    "#circular_convo\n",
    "import numpy as np\n",
    "import matplotlib.pyplot as plt\n",
    "h = [1,2,3,4,5]\n",
    "#input response\n",
    "x = [1,2,1]\n",
    "# Pad sequences to the same lengt\n",
    "N=max(len(x), len(h))\n",
    "x_padded = np.pad(x, (0, N-len(x)), mode='constant')\n",
    "h_padded= np.pad(h, (0, N-len(h)), mode='constant')\n",
    "# Perform circular convolution using np.fft.ifft()\n",
    "X = np.fft.fft(x_padded)\n",
    "H = np.fft.fft(h_padded)\n",
    "Y = np.fft.ifft(X * H)\n",
    "print(\"Circular Convolution Result:\", np.real(Y))\n"
   ]
  },
  {
   "cell_type": "code",
   "execution_count": null,
   "id": "f4caffca-5d7b-4256-9e35-2255fe83e6ea",
   "metadata": {},
   "outputs": [],
   "source": [
    "#Auto_corrANDCross_corr\n",
    "import numpy as np\n",
    "import matplotlib.pyplot as plt \n",
    "# First sequence\n",
    "x = [1, 2, 3, 4, 5]\n",
    "# Second sequence\n",
    "y = [2, 4, 6, 8, 10]\n",
    "# Perform cross-correlation\n",
    "cross_corr = np.correlate(x, y, mode='full')\n",
    "print('cross correlation',cross_corr)\n",
    "#Perform auto-correlation\n",
    "auto_corr = np.correlate(x, x, mode='full')\n",
    "print('autocorrelation', auto_corr)\n",
    "# Plotting the results\n",
    "lags = np.arange(-len(x) + 1, len(x))\n",
    "plt.stem(lags, cross_corr)\n",
    "plt.xlabel('Lag')\n",
    "plt.ylabel('Cross-Correlation')\n",
    "plt.title('Cross-Correlation of x and y')\n",
    "plt.grid(True)\n",
    "plt.show()\n",
    "plt.stem(lags, auto_corr)\n",
    "plt.xlabel('Lag')\n",
    "plt.ylabel('Auto-Correlation')\n",
    "plt.title('Auto-Correlation of x')\n",
    "plt.grid(True)\n",
    "plt.show()"
   ]
  },
  {
   "cell_type": "code",
   "execution_count": 14,
   "id": "56c43835-5648-4670-9fad-17bafd6d9028",
   "metadata": {},
   "outputs": [
    {
     "name": "stdout",
     "output_type": "stream",
     "text": [
      "Linear convolution of x1 and x2 is: [2, 7, 16, 30, 34, 31, 20]\n",
      "Circular convolution of x1 and x2 is: [36, 38, 36, 30]\n",
      "Circular correlation of x1 and x2 is: [5, 14, 26, 40, 29, 18, 8]\n"
     ]
    }
   ],
   "source": [
    "import numpy as np\n",
    "import matplotlib.pyplot as plt\n",
    "\n",
    "# Defining functions\n",
    "def linear_convolution_nf(x, y):\n",
    "    x_len = len(x)\n",
    "    y_len = len(y)\n",
    "    result = []\n",
    "    for n in range(x_len + y_len - 1):\n",
    "        res_sum = 0\n",
    "        for k in range(x_len):\n",
    "            if n - k < y_len and n - k >= 0:\n",
    "                res_sum += x[k] * y[n - k]\n",
    "        result.append(res_sum)\n",
    "    return result\n",
    "\n",
    "def circular_convolution_nf(x, y):\n",
    "    if len(x) != len(y):\n",
    "        Max = max(len(x), len(y))\n",
    "        x = np.pad(x, (0, Max - len(x)), mode='constant')\n",
    "        y = np.pad(y, (0, Max - len(y)), mode='constant')\n",
    "    N = len(x)\n",
    "    result = []\n",
    "    for n in range(N):\n",
    "        res_sum = 0\n",
    "        for k in range(N):\n",
    "            res_sum += x[k] * y[(n - k) % N]\n",
    "        result.append(res_sum)\n",
    "    return result\n",
    "\n",
    "def circular_correlation_nf(x, y):\n",
    "    N = len(x)\n",
    "    res = []\n",
    "    for n in range(-(N - 1), N):\n",
    "        res_sum = 0\n",
    "        for k in range(N):\n",
    "            if k - n >= 0 and k - n < N:\n",
    "                res_sum += x[k] * y[(k - n)]\n",
    "        res.append(res_sum)\n",
    "    return res\n",
    "\n",
    "# Inputs\n",
    "x1 = [1, 2, 3, 4]\n",
    "x2 = [2, 3, 4, 5]\n",
    "\n",
    "# Printing Outputs\n",
    "print(\"Linear convolution of x1 and x2 is:\", linear_convolution_nf(x1, x2))\n",
    "print(\"Circular convolution of x1 and x2 is:\", circular_convolution_nf(x1, x2))\n",
    "print(\"Circular correlation of x1 and x2 is:\", circular_correlation_nf(x1, x2))\n"
   ]
  },
  {
   "cell_type": "code",
   "execution_count": null,
   "id": "da8c9814-e4e2-4417-ac69-a3a0df9ac8aa",
   "metadata": {},
   "outputs": [],
   "source": []
  }
 ],
 "metadata": {
  "kernelspec": {
   "display_name": "Python 3 (ipykernel)",
   "language": "python",
   "name": "python3"
  },
  "language_info": {
   "codemirror_mode": {
    "name": "ipython",
    "version": 3
   },
   "file_extension": ".py",
   "mimetype": "text/x-python",
   "name": "python",
   "nbconvert_exporter": "python",
   "pygments_lexer": "ipython3",
   "version": "3.12.5"
  }
 },
 "nbformat": 4,
 "nbformat_minor": 5
}
