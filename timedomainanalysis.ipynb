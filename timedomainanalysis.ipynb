{
  "metadata": {
    "kernelspec": {
      "name": "python",
      "display_name": "Python (Pyodide)",
      "language": "python"
    },
    "language_info": {
      "codemirror_mode": {
        "name": "python",
        "version": 3
      },
      "file_extension": ".py",
      "mimetype": "text/x-python",
      "name": "python",
      "nbconvert_exporter": "python",
      "pygments_lexer": "ipython3",
      "version": "3.8"
    }
  },
  "nbformat_minor": 4,
  "nbformat": 4,
  "cells": [
    {
      "cell_type": "code",
      "source": "import librosa   #librosa is a Python package for music and \naudio processing \nimport librosa.display   # \nimport IPython.display as ipd    #to play the audio signal  \nimport matplotlib.pyplot as plt    \n#plot the audio signal in \ntime domain \nipd.Audio('/content/drive/MyDrive/ColabNotebooks/trainin\n gdatasets/cars001.wav)   \n#load a local WAV file \n36 \naudio_path=('/content/drive/MyDrive/ColabNotebooks/trai\n ningdatasets/cars001.wav') \nx , sr = librosa.load(audio_path)   # 22050Hz ",
      "metadata": {
        "trusted": true
      },
      "outputs": [
        {
          "ename": "<class 'SyntaxError'>",
          "evalue": "unterminated string literal (detected at line 8) (<ipython-input-1-be4ddbcef832>, line 8)",
          "traceback": [
            "\u001b[0;36m  Cell \u001b[0;32mIn[1], line 8\u001b[0;36m\u001b[0m\n\u001b[0;31m    ipd.Audio('/content/drive/MyDrive/ColabNotebooks/trainin\u001b[0m\n\u001b[0m              ^\u001b[0m\n\u001b[0;31mSyntaxError\u001b[0m\u001b[0;31m:\u001b[0m unterminated string literal (detected at line 8)\n"
          ],
          "output_type": "error"
        }
      ],
      "execution_count": 1
    },
    {
      "cell_type": "code",
      "source": "ipd.Audio('/content/drive/MyDrive/ColabNotebooks/traini\n ngdatasets/cars001.wav') \n#Duration of audio file \ny=len(x)  #number of samples x \nprint(y) \n#print(len(x)) \ny1=sr   #sampling frequency sr \nprint(y1) \nduration_of_sound=y/y1  #number of samples/sampling \nfrequency ",
      "metadata": {
        "trusted": true
      },
      "outputs": [],
      "execution_count": null
    },
    {
      "cell_type": "code",
      "source": "plt.figure(figsize=(14, 5))  \n#variable to change the x and y axix range \nplt.grid(True )                                             \n#plotting the sampled signal \nlibrosa.display.waveshow(x) \nplt.xlabel(\"Time\") \nplt.ylabel(\"Amplitude\") \nplt.title(\"Time Domain Anlysis of Audio file\") ",
      "metadata": {
        "trusted": true
      },
      "outputs": [],
      "execution_count": null
    },
    {
      "cell_type": "code",
      "source": "X = librosa.stft(x) \n#converting into energy levels(dB)                       \nXdb = librosa.amplitude_to_db(abs(X)) \nplt.figure(figsize=(20, 5)) \nlibrosa.display.specshow(Xdb, sr=sr,    \nx_axis='time', y_axis='hz') \nplt.colorbar()",
      "metadata": {
        "trusted": true
      },
      "outputs": [],
      "execution_count": null
    },
    {
      "cell_type": "code",
      "source": "librosa.load('/content/drive/MyDrive/ColabNotebooks/training datasets/cars001.wav') \nmfccs = librosa.feature.mfcc(y=y, sr=sr, n_mfcc=40)   \n#varable should be  y not x \nplt.figure(figsize=(10,4)) \nlibrosa.display.specshow(mfccs, x_axis=\"time\") \nplt.colorbar() \n38 \nplt.title('MFCC') \nplt.tight_layout() \nplt.show() ",
      "metadata": {
        "trusted": true
      },
      "outputs": [],
      "execution_count": null
    },
    {
      "cell_type": "code",
      "source": "x, sr = librosa.load('/content/drive/MyDrive/Colab Notebooks/training datasets/cars014.wav') \nhop_length = 512 \nS = np.abs(librosa.stft(y)) \nchroma = librosa.feature.chroma_stft(S=S, sr=sr) \nplt.figure(figsize=(15, 5)) \nlibrosa.display.specshow(chroma,  \nx_axis='time', y_axis='chroma', hop_length=hop_length, \ncmap='coolwarm') ",
      "metadata": {
        "trusted": true
      },
      "outputs": [],
      "execution_count": null
    }
  ]
}