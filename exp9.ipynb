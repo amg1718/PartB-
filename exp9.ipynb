{
 "cells": [
  {
   "cell_type": "code",
   "execution_count": null,
   "id": "5e649fed-edbb-4e46-a606-a988968f95a1",
   "metadata": {},
   "outputs": [],
   "source": [
    "import scipy.io.wavfile as wavfile\n",
    "import scipy\n",
    "import scipy.fftpack as fftpk\n",
    "import numpy as np\n",
    "from matplotlib import pyplot as plt\n",
    "s_rate, signal = wavfile.read('/content/drive/MyDrive/Colab Notebooks/training datasets/Copy of Sad(10).wav')\n",
    "FFT = abs(fftpk.fft(signal))\n",
    "freqs = fftpk.fftfreq(len(FFT), (1.0/s_rate))\n",
    "plt.plot(freqs[range(len(FFT)//2)], FFT[range(len(FFT)//2)]) \n",
    "plt.xlabel('Frequency (Hz)')\n",
    "plt.ylabel('Amplitude')\n",
    "plt.show()\n"
   ]
  },
  {
   "cell_type": "code",
   "execution_count": null,
   "id": "b4f5aee0-70eb-47bb-a33b-ffb8051ff20e",
   "metadata": {},
   "outputs": [],
   "source": [
    "std = np.std(freqs) \n",
    "maxv = np.amax(freqs) \n",
    "minv = np.amin(freqs) \n",
    "median = np.median(freqs)\n",
    "iii. #Higher order moments – skewness and kurtosis:\n",
    "skew = scipy.stats.skew(freqs) \n",
    "kurt = scipy.stats.kurtosis(freqs) # identify anomalies and \n",
    "outliers in many signal processing applications.\n",
    "q1 = np.quantile(freqs, 0.25)\n",
    "q3 = np.quantile(freqs, 0.75)\n",
    "mode = scipy.stats.mode(freqs)[0][0]\n",
    "iqr = scipy.stats.iqr(freqs)\n",
    "print('mean as:', mean)\n",
    "print('std as:',std)\n",
    "print('shew as:',skew)\n",
    "print('kurt as:',kurt)\n",
    "print('q1 as:',q1)\n"
   ]
  }
 ],
 "metadata": {
  "kernelspec": {
   "display_name": "Python 3 (ipykernel)",
   "language": "python",
   "name": "python3"
  },
  "language_info": {
   "codemirror_mode": {
    "name": "ipython",
    "version": 3
   },
   "file_extension": ".py",
   "mimetype": "text/x-python",
   "name": "python",
   "nbconvert_exporter": "python",
   "pygments_lexer": "ipython3",
   "version": "3.12.5"
  }
 },
 "nbformat": 4,
 "nbformat_minor": 5
}
